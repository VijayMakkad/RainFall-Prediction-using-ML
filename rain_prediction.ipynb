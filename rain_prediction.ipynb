{
  "nbformat": 4,
  "nbformat_minor": 0,
  "metadata": {
    "colab": {
      "provenance": []
    },
    "kernelspec": {
      "name": "python3",
      "display_name": "Python 3"
    },
    "language_info": {
      "name": "python"
    }
  },
  "cells": [
    {
      "cell_type": "markdown",
      "source": [
        "Importing libraries and packages for the model"
      ],
      "metadata": {
        "id": "RDau98jognwE"
      }
    },
    {
      "cell_type": "code",
      "execution_count": null,
      "metadata": {
        "id": "h5oXvA2B5Sd6"
      },
      "outputs": [],
      "source": [
        "import pandas as pd\n",
        "import numpy as np\n",
        "import seaborn as sns\n",
        "import matplotlib.pyplot as plt\n",
        "from sklearn.model_selection import train_test_split\n",
        "from sklearn.linear_model import LogisticRegression\n",
        "from sklearn.preprocessing import LabelEncoder\n",
        "from sklearn.preprocessing import StandardScaler\n",
        "from sklearn.ensemble import RandomForestClassifier\n",
        "from sklearn.metrics import accuracy_score,classification_report"
      ]
    },
    {
      "cell_type": "code",
      "source": [
        "data=pd.read_csv(\"/content/weatherAUS.csv\")\n",
        "print(data.head())"
      ],
      "metadata": {
        "colab": {
          "base_uri": "https://localhost:8080/"
        },
        "id": "gqGu98RsGzfl",
        "outputId": "2f97a27a-b762-4c7f-a657-4988f2ca7f19"
      },
      "execution_count": null,
      "outputs": [
        {
          "output_type": "stream",
          "name": "stdout",
          "text": [
            "         Date Location  MinTemp  MaxTemp  Rainfall  Evaporation  Sunshine  \\\n",
            "0  2008-12-01   Albury     13.4     22.9       0.6          NaN       NaN   \n",
            "1  2008-12-02   Albury      7.4     25.1       0.0          NaN       NaN   \n",
            "2  2008-12-03   Albury     12.9     25.7       0.0          NaN       NaN   \n",
            "3  2008-12-04   Albury      9.2     28.0       0.0          NaN       NaN   \n",
            "4  2008-12-05   Albury     17.5     32.3       1.0          NaN       NaN   \n",
            "\n",
            "  WindGustDir  WindGustSpeed WindDir9am  ... Humidity9am  Humidity3pm  \\\n",
            "0           W           44.0          W  ...        71.0         22.0   \n",
            "1         WNW           44.0        NNW  ...        44.0         25.0   \n",
            "2         WSW           46.0          W  ...        38.0         30.0   \n",
            "3          NE           24.0         SE  ...        45.0         16.0   \n",
            "4           W           41.0        ENE  ...        82.0         33.0   \n",
            "\n",
            "   Pressure9am  Pressure3pm  Cloud9am  Cloud3pm  Temp9am  Temp3pm  RainToday  \\\n",
            "0       1007.7       1007.1       8.0       NaN     16.9     21.8         No   \n",
            "1       1010.6       1007.8       NaN       NaN     17.2     24.3         No   \n",
            "2       1007.6       1008.7       NaN       2.0     21.0     23.2         No   \n",
            "3       1017.6       1012.8       NaN       NaN     18.1     26.5         No   \n",
            "4       1010.8       1006.0       7.0       8.0     17.8     29.7         No   \n",
            "\n",
            "   RainTomorrow  \n",
            "0            No  \n",
            "1            No  \n",
            "2            No  \n",
            "3            No  \n",
            "4            No  \n",
            "\n",
            "[5 rows x 23 columns]\n"
          ]
        }
      ]
    },
    {
      "cell_type": "code",
      "source": [
        "print(data.shape)\n",
        "print(data.info())"
      ],
      "metadata": {
        "colab": {
          "base_uri": "https://localhost:8080/"
        },
        "id": "UX5jkK7rHAbS",
        "outputId": "bdc0bace-8429-4991-e7e9-96c0f750cb94"
      },
      "execution_count": null,
      "outputs": [
        {
          "output_type": "stream",
          "name": "stdout",
          "text": [
            "(10811, 23)\n",
            "<class 'pandas.core.frame.DataFrame'>\n",
            "RangeIndex: 10811 entries, 0 to 10810\n",
            "Data columns (total 23 columns):\n",
            " #   Column         Non-Null Count  Dtype  \n",
            "---  ------         --------------  -----  \n",
            " 0   Date           10811 non-null  object \n",
            " 1   Location       10811 non-null  object \n",
            " 2   MinTemp        10757 non-null  float64\n",
            " 3   MaxTemp        10766 non-null  float64\n",
            " 4   Rainfall       10676 non-null  float64\n",
            " 5   Evaporation    4357 non-null   float64\n",
            " 6   Sunshine       2005 non-null   float64\n",
            " 7   WindGustDir    10624 non-null  object \n",
            " 8   WindGustSpeed  10624 non-null  float64\n",
            " 9   WindDir9am     9786 non-null   object \n",
            " 10  WindDir3pm     10657 non-null  object \n",
            " 11  WindSpeed9am   10730 non-null  float64\n",
            " 12  WindSpeed3pm   10734 non-null  float64\n",
            " 13  Humidity9am    10616 non-null  float64\n",
            " 14  Humidity3pm    10610 non-null  float64\n",
            " 15  Pressure9am    10599 non-null  float64\n",
            " 16  Pressure3pm    10595 non-null  float64\n",
            " 17  Cloud9am       5655 non-null   float64\n",
            " 18  Cloud3pm       5857 non-null   float64\n",
            " 19  Temp9am        10750 non-null  float64\n",
            " 20  Temp3pm        10747 non-null  float64\n",
            " 21  RainToday      10675 non-null  object \n",
            " 22  RainTomorrow   10675 non-null  object \n",
            "dtypes: float64(16), object(7)\n",
            "memory usage: 1.9+ MB\n",
            "None\n"
          ]
        }
      ]
    },
    {
      "cell_type": "code",
      "source": [
        "sns.barplot(y=\"Rainfall\",x=\"RainTomorrow\",data=data)\n",
        "plt.show()"
      ],
      "metadata": {
        "colab": {
          "base_uri": "https://localhost:8080/",
          "height": 449
        },
        "id": "3PtNZX00geoT",
        "outputId": "df184e5f-2bdb-47fe-851a-c9a06e9511c0"
      },
      "execution_count": null,
      "outputs": [
        {
          "output_type": "display_data",
          "data": {
            "text/plain": [
              "<Figure size 640x480 with 1 Axes>"
            ],
            "image/png": "[encoded data removed]"
          },
          "metadata": {}
        }
      ]
    },
    {
      "cell_type": "markdown",
      "source": [
        "Splitting the columns"
      ],
      "metadata": {
        "id": "DWEK1G2QKI0g"
      }
    },
    {
      "cell_type": "code",
      "source": [
        "X=data.iloc[:,[1,2,3,4,5,6,7,8,11,12,13,14,15,16,17,18,19,20,21]].values\n",
        "y=data.iloc[:,[-1]].values"
      ],
      "metadata": {
        "id": "zhmK4pDlH7KU"
      },
      "execution_count": null,
      "outputs": []
    },
    {
      "cell_type": "code",
      "source": [
        "print(X)"
      ],
      "metadata": {
        "colab": {
          "base_uri": "https://localhost:8080/"
        },
        "id": "gXIQEYd3KN1U",
        "outputId": "ef1a69ff-02f8-47e8-a28e-7e04a90c09a7"
      },
      "execution_count": null,
      "outputs": [
        {
          "output_type": "stream",
          "name": "stdout",
          "text": [
            "[['Albury' 13.4 22.9 ... 16.9 21.8 'No']\n",
            " ['Albury' 7.4 25.1 ... 17.2 24.3 'No']\n",
            " ['Albury' 12.9 25.7 ... 21.0 23.2 'No']\n",
            " ...\n",
            " ['CoffsHarbour' 18.3 27.1 ... 24.8 25.9 'No']\n",
            " ['CoffsHarbour' 17.8 28.1 ... 24.6 26.7 'No']\n",
            " ['CoffsHarbour' 19.2 28.0 ... nan nan nan]]\n"
          ]
        }
      ]
    },
    {
      "cell_type": "code",
      "source": [
        "print(y)"
      ],
      "metadata": {
        "colab": {
          "base_uri": "https://localhost:8080/"
        },
        "id": "v-3yjtGYKqMX",
        "outputId": "90dbc610-9a0e-4162-f29b-28bd943eacd4"
      },
      "execution_count": null,
      "outputs": [
        {
          "output_type": "stream",
          "name": "stdout",
          "text": [
            "[['No']\n",
            " ['No']\n",
            " ['No']\n",
            " ...\n",
            " ['No']\n",
            " ['No']\n",
            " [nan]]\n"
          ]
        }
      ]
    },
    {
      "cell_type": "markdown",
      "source": [
        "It will replace the NULL values with most frequent values in the data"
      ],
      "metadata": {
        "id": "bj5NmxLaMIZ7"
      }
    },
    {
      "cell_type": "code",
      "source": [
        "from sklearn.impute import SimpleImputer\n",
        "imputer = SimpleImputer(missing_values=np.nan,strategy='most_frequent')\n",
        "X = imputer.fit_transform(X)\n",
        "y = imputer.fit_transform(y)"
      ],
      "metadata": {
        "id": "hbZvKM22L33i"
      },
      "execution_count": null,
      "outputs": []
    },
    {
      "cell_type": "code",
      "source": [
        "print(X)"
      ],
      "metadata": {
        "colab": {
          "base_uri": "https://localhost:8080/"
        },
        "id": "ycgwfFGLMGgz",
        "outputId": "4a993c3a-48f6-4b45-e2d9-8cd9691af487"
      },
      "execution_count": null,
      "outputs": [
        {
          "output_type": "stream",
          "name": "stdout",
          "text": [
            "[['Albury' 13.4 22.9 ... 16.9 21.8 'No']\n",
            " ['Albury' 7.4 25.1 ... 17.2 24.3 'No']\n",
            " ['Albury' 12.9 25.7 ... 21.0 23.2 'No']\n",
            " ...\n",
            " ['CoffsHarbour' 18.3 27.1 ... 24.8 25.9 'No']\n",
            " ['CoffsHarbour' 17.8 28.1 ... 24.6 26.7 'No']\n",
            " ['CoffsHarbour' 19.2 28.0 ... 20.6 18.4 'No']]\n"
          ]
        }
      ]
    },
    {
      "cell_type": "code",
      "source": [
        "print(y)"
      ],
      "metadata": {
        "colab": {
          "base_uri": "https://localhost:8080/"
        },
        "id": "wn_BrmyBMqTw",
        "outputId": "b08f8091-9e0d-4299-e17c-9bb883f3f792"
      },
      "execution_count": null,
      "outputs": [
        {
          "output_type": "stream",
          "name": "stdout",
          "text": [
            "[['No']\n",
            " ['No']\n",
            " ['No']\n",
            " ...\n",
            " ['No']\n",
            " ['No']\n",
            " ['No']]\n"
          ]
        }
      ]
    },
    {
      "cell_type": "code",
      "source": [
        "RainTomorrow=pd.get_dummies(data[\"RainTomorrow\"],drop_first=True)\n",
        "RainToday=pd.get_dummies(data[\"RainToday\"],drop_first=True)\n",
        "print(RainTomorrow)\n",
        "print(RainToday)"
      ],
      "metadata": {
        "colab": {
          "base_uri": "https://localhost:8080/"
        },
        "id": "zGNyYmnvLJr9",
        "outputId": "17311c81-d8c6-45cd-f314-b1316ce745ca"
      },
      "execution_count": null,
      "outputs": [
        {
          "output_type": "stream",
          "name": "stdout",
          "text": [
            "       Yes\n",
            "0        0\n",
            "1        0\n",
            "2        0\n",
            "3        0\n",
            "4        0\n",
            "...    ...\n",
            "10806    0\n",
            "10807    0\n",
            "10808    0\n",
            "10809    0\n",
            "10810    0\n",
            "\n",
            "[10811 rows x 1 columns]\n",
            "       Yes\n",
            "0        0\n",
            "1        0\n",
            "2        0\n",
            "3        0\n",
            "4        0\n",
            "...    ...\n",
            "10806    0\n",
            "10807    0\n",
            "10808    0\n",
            "10809    0\n",
            "10810    0\n",
            "\n",
            "[10811 rows x 1 columns]\n"
          ]
        }
      ]
    },
    {
      "cell_type": "markdown",
      "source": [
        "This will convert the strings to float values for better evaluation"
      ],
      "metadata": {
        "id": "-lWl1E3hhJYP"
      }
    },
    {
      "cell_type": "code",
      "source": [
        "le1=LabelEncoder()\n",
        "X[:,0]=le1.fit_transform(X[:,0])\n",
        "le2=LabelEncoder()\n",
        "X[:,4]=le2.fit_transform(X[:,4])\n",
        "le3=LabelEncoder()\n",
        "X[:,6]=le3.fit_transform(X[:,6])\n",
        "le4=LabelEncoder()\n",
        "X[:,7]=le4.fit_transform(X[:,7])\n",
        "le5=LabelEncoder()\n",
        "X[:,-1]=le5.fit_transform(X[:,-1])\n",
        "le6=LabelEncoder()\n",
        "y[:,-1]=le6.fit_transform(y[:,-1])"
      ],
      "metadata": {
        "id": "B65P_5nfOuUS"
      },
      "execution_count": null,
      "outputs": []
    },
    {
      "cell_type": "code",
      "source": [
        "print(X)"
      ],
      "metadata": {
        "colab": {
          "base_uri": "https://localhost:8080/"
        },
        "id": "yzabS_qFO3Zc",
        "outputId": "b7507fe2-6285-4ff8-f1d4-361b490f37c2"
      },
      "execution_count": null,
      "outputs": [
        {
          "output_type": "stream",
          "name": "stdout",
          "text": [
            "[[0 13.4 22.9 ... 16.9 21.8 0]\n",
            " [0 7.4 25.1 ... 17.2 24.3 0]\n",
            " [0 12.9 25.7 ... 21.0 23.2 0]\n",
            " ...\n",
            " [3 18.3 27.1 ... 24.8 25.9 0]\n",
            " [3 17.8 28.1 ... 24.6 26.7 0]\n",
            " [3 19.2 28.0 ... 20.6 18.4 0]]\n"
          ]
        }
      ]
    },
    {
      "cell_type": "code",
      "source": [
        "y= np.array(y,dtype=float)\n",
        "print(y)"
      ],
      "metadata": {
        "colab": {
          "base_uri": "https://localhost:8080/"
        },
        "id": "-1_oNHkDO61R",
        "outputId": "8890d00b-4e1b-4262-bc0b-001399d3a3a7"
      },
      "execution_count": null,
      "outputs": [
        {
          "output_type": "stream",
          "name": "stdout",
          "text": [
            "[[0.]\n",
            " [0.]\n",
            " [0.]\n",
            " ...\n",
            " [0.]\n",
            " [0.]\n",
            " [0.]]\n"
          ]
        }
      ]
    },
    {
      "cell_type": "markdown",
      "source": [
        "We are splitting the test and train data sets and given the test size"
      ],
      "metadata": {
        "id": "sVRsP8lBhOvp"
      }
    },
    {
      "cell_type": "code",
      "source": [
        "from sklearn.model_selection import train_test_split\n",
        "X_train,X_test,y_train,y_test = train_test_split(X,y,test_size=0.2,random_state=0)\n"
      ],
      "metadata": {
        "id": "73fvl7k-PZP-"
      },
      "execution_count": null,
      "outputs": []
    },
    {
      "cell_type": "code",
      "source": [
        "print(X_train.shape)\n",
        "print(X_test.shape)\n",
        "print(y_train.shape)\n",
        "print(y_test.shape)"
      ],
      "metadata": {
        "colab": {
          "base_uri": "https://localhost:8080/"
        },
        "id": "fspm0FllRufb",
        "outputId": "95816494-1d7d-4866-cc39-4abf93509bf6"
      },
      "execution_count": null,
      "outputs": [
        {
          "output_type": "stream",
          "name": "stdout",
          "text": [
            "(8648, 19)\n",
            "(2163, 19)\n",
            "(8648, 1)\n",
            "(2163, 1)\n"
          ]
        }
      ]
    },
    {
      "cell_type": "markdown",
      "source": [
        "We will use random forest for this model and use the corresponding function to make the model learn"
      ],
      "metadata": {
        "id": "dADnF3SNhTtJ"
      }
    },
    {
      "cell_type": "code",
      "source": [
        "from sklearn.linear_model import LinearRegression\n",
        "classifier = RandomForestClassifier(n_estimators=100,random_state=0)\n",
        "classifier.fit(X_train,y_train)\n",
        "y_pred=classifier.predict(X_test)\n"
      ],
      "metadata": {
        "colab": {
          "base_uri": "https://localhost:8080/"
        },
        "id": "dFG16CATSB6-",
        "outputId": "b0377322-bff7-4b78-ae60-8bdf12d47eff"
      },
      "execution_count": 26,
      "outputs": [
        {
          "output_type": "stream",
          "name": "stderr",
          "text": [
            "<ipython-input-26-28ef7f54bbd1>:3: DataConversionWarning: A column-vector y was passed when a 1d array was expected. Please change the shape of y to (n_samples,), for example using ravel().\n",
            "  classifier.fit(X_train,y_train)\n"
          ]
        }
      ]
    },
    {
      "cell_type": "markdown",
      "source": [
        "This is the accuracy score of the model"
      ],
      "metadata": {
        "id": "pIihXD6fheHN"
      }
    },
    {
      "cell_type": "code",
      "source": [
        "print(accuracy_score(y_test,y_pred))\n",
        "print(classification_report(y_test,y_pred))"
      ],
      "metadata": {
        "colab": {
          "base_uri": "https://localhost:8080/"
        },
        "id": "-M3OAu4RTdc6",
        "outputId": "83e76782-729a-402b-a135-ee07342792f5"
      },
      "execution_count": 27,
      "outputs": [
        {
          "output_type": "stream",
          "name": "stdout",
          "text": [
            "0.8700878409616274\n",
            "              precision    recall  f1-score   support\n",
            "\n",
            "         0.0       0.88      0.97      0.92      1710\n",
            "         1.0       0.82      0.49      0.61       453\n",
            "\n",
            "    accuracy                           0.87      2163\n",
            "   macro avg       0.85      0.73      0.77      2163\n",
            "weighted avg       0.87      0.87      0.86      2163\n",
            "\n"
          ]
        }
      ]
    },
    {
      "cell_type": "code",
      "source": [
        "y_pred = y_pred.reshape(-1,1)\n",
        "y_test = y_test.reshape(-1,1)\n",
        "print(y_pred)\n",
        "print(y_test)"
      ],
      "metadata": {
        "colab": {
          "base_uri": "https://localhost:8080/"
        },
        "id": "TuoINgv1LCmf",
        "outputId": "522c80ce-40b8-4d4f-c679-97835782a4c4"
      },
      "execution_count": 32,
      "outputs": [
        {
          "output_type": "stream",
          "name": "stdout",
          "text": [
            "[[0.]\n",
            " [0.]\n",
            " [0.]\n",
            " ...\n",
            " [0.]\n",
            " [0.]\n",
            " [0.]]\n",
            "[[0.]\n",
            " [0.]\n",
            " [0.]\n",
            " ...\n",
            " [0.]\n",
            " [0.]\n",
            " [0.]]\n"
          ]
        }
      ]
    },
    {
      "cell_type": "code",
      "source": [
        "df = np.concatenate((y_test,y_pred),axis=1)\n",
        "dataframe = pd.DataFrame(df,columns=['will it Rain Tommorrow','Predition of Rain'])\n",
        "print(dataframe)"
      ],
      "metadata": {
        "colab": {
          "base_uri": "https://localhost:8080/"
        },
        "id": "8iauGvgELK1S",
        "outputId": "5a735763-814a-4518-e2d2-b5ee0b9886ee"
      },
      "execution_count": 34,
      "outputs": [
        {
          "output_type": "stream",
          "name": "stdout",
          "text": [
            "      will it Rain Tommorrow  Predition of Rain\n",
            "0                        0.0                0.0\n",
            "1                        0.0                0.0\n",
            "2                        0.0                0.0\n",
            "3                        0.0                0.0\n",
            "4                        1.0                1.0\n",
            "...                      ...                ...\n",
            "2158                     0.0                0.0\n",
            "2159                     0.0                0.0\n",
            "2160                     0.0                0.0\n",
            "2161                     0.0                0.0\n",
            "2162                     0.0                0.0\n",
            "\n",
            "[2163 rows x 2 columns]\n"
          ]
        }
      ]
    }
  ]
}